{
  "nbformat": 4,
  "nbformat_minor": 0,
  "metadata": {
    "colab": {
      "provenance": [],
      "authorship_tag": "ABX9TyNMGQX5Odqk5/MdauHeyl8J",
      "include_colab_link": true
    },
    "kernelspec": {
      "name": "python3",
      "display_name": "Python 3"
    },
    "language_info": {
      "name": "python"
    }
  },
  "cells": [
    {
      "cell_type": "markdown",
      "metadata": {
        "id": "view-in-github",
        "colab_type": "text"
      },
      "source": [
        "<a href=\"https://colab.research.google.com/github/harishkulkarni10/ecommerce-session-recommender/blob/main/notebooks/1_Data_Acquisition_EDA.ipynb\" target=\"_parent\"><img src=\"https://colab.research.google.com/assets/colab-badge.svg\" alt=\"Open In Colab\"/></a>"
      ]
    },
    {
      "cell_type": "code",
      "source": [
        "# STEP 1.0 — Mount Google Drive and verify paths\n",
        "\n",
        "from google.colab import drive\n",
        "import os, glob\n",
        "\n",
        "# Mount Drive\n",
        "drive.mount('/content/drive', force_remount=True)\n",
        "\n",
        "# Set project root\n",
        "PROJECT_ROOT = '/content/drive/MyDrive/Data Science course/Major Projects/Projects/e-commerce recommender/diginetica_recommender_project/'\n",
        "\n",
        "# Subpaths\n",
        "RAW_PATH       = os.path.join(PROJECT_ROOT, 'data/raw/')\n",
        "CLEANED_PATH   = os.path.join(PROJECT_ROOT, 'data/cleaned/')\n",
        "SESSION_PATH   = os.path.join(PROJECT_ROOT, 'data/sessions/')\n",
        "NOTEBOOKS_PATH = os.path.join(PROJECT_ROOT, 'notebooks/')\n",
        "MODELS_PATH    = os.path.join(PROJECT_ROOT, 'models/')\n",
        "RESULTS_PATH   = os.path.join(PROJECT_ROOT, 'results/')\n",
        "\n",
        "print(\"Drive mounted successfully!\")\n",
        "print(\"Project root:\", PROJECT_ROOT)\n",
        "print(\"\\nSubfolders available:\")\n",
        "for p in sorted(glob.glob(PROJECT_ROOT + '*')):\n",
        "    print(\"-\", os.path.basename(p))\n"
      ],
      "metadata": {
        "id": "uiA8uoQ6U98w",
        "colab": {
          "base_uri": "https://localhost:8080/"
        },
        "outputId": "5e7f4b8b-ee46-41da-99ce-206b52f5b741"
      },
      "execution_count": 2,
      "outputs": [
        {
          "output_type": "stream",
          "name": "stdout",
          "text": [
            "Mounted at /content/drive\n",
            "Drive mounted successfully!\n",
            "Project root: /content/drive/MyDrive/Data Science course/Major Projects/Projects/e-commerce recommender/diginetica_recommender_project/\n",
            "\n",
            "Subfolders available:\n",
            "- data\n",
            "- logs\n",
            "- models\n",
            "- notebooks\n",
            "- project_manifest.json\n",
            "- results\n",
            "- src\n",
            "- visuals\n"
          ]
        }
      ]
    },
    {
      "cell_type": "code",
      "source": [
        "# STEP 1.1 — Load a small sample\n",
        "\n",
        "import pandas as pd\n",
        "import os\n",
        "\n",
        "# Path to the main raw file\n",
        "FILE_PATH = os.path.join(RAW_PATH, 'train-item-views.csv')\n",
        "print(\"File path:\", FILE_PATH)\n",
        "\n",
        "# Load first 100k rows\n",
        "df = pd.read_csv(FILE_PATH, sep=';', nrows=100_000, low_memory=False)\n",
        "print(\"Sample loaded successfully — shape:\", df.shape)\n",
        "\n",
        "display(df.head())\n",
        "\n",
        "# Column names and datatypes\n",
        "print(\"\\nColumns:\")\n",
        "print(list(df.columns))\n",
        "print(\"\\nData types:\")\n",
        "print(df.dtypes)\n",
        "\n",
        "# Missing values overview\n",
        "print(\"\\nMissing values per column:\")\n",
        "print(df.isna().sum())\n"
      ],
      "metadata": {
        "colab": {
          "base_uri": "https://localhost:8080/",
          "height": 604
        },
        "id": "YN1gw96AuZ6u",
        "outputId": "15225196-5e0f-47df-949e-c41e06b005e3"
      },
      "execution_count": 4,
      "outputs": [
        {
          "output_type": "stream",
          "name": "stdout",
          "text": [
            "File path: /content/drive/MyDrive/Data Science course/Major Projects/Projects/e-commerce recommender/diginetica_recommender_project/data/raw/train-item-views.csv\n",
            "Sample loaded successfully — shape: (100000, 5)\n"
          ]
        },
        {
          "output_type": "display_data",
          "data": {
            "text/plain": [
              "   sessionId  userId  itemId  timeframe   eventdate\n",
              "0          1     NaN   81766     526309  2016-05-09\n",
              "1          1     NaN   31331    1031018  2016-05-09\n",
              "2          1     NaN   32118     243569  2016-05-09\n",
              "3          1     NaN    9654      75848  2016-05-09\n",
              "4          1     NaN   32627    1112408  2016-05-09"
            ],
            "text/html": [
              "\n",
              "  <div id=\"df-217597bc-b697-4178-bdbe-c162d9bd3f2c\" class=\"colab-df-container\">\n",
              "    <div>\n",
              "<style scoped>\n",
              "    .dataframe tbody tr th:only-of-type {\n",
              "        vertical-align: middle;\n",
              "    }\n",
              "\n",
              "    .dataframe tbody tr th {\n",
              "        vertical-align: top;\n",
              "    }\n",
              "\n",
              "    .dataframe thead th {\n",
              "        text-align: right;\n",
              "    }\n",
              "</style>\n",
              "<table border=\"1\" class=\"dataframe\">\n",
              "  <thead>\n",
              "    <tr style=\"text-align: right;\">\n",
              "      <th></th>\n",
              "      <th>sessionId</th>\n",
              "      <th>userId</th>\n",
              "      <th>itemId</th>\n",
              "      <th>timeframe</th>\n",
              "      <th>eventdate</th>\n",
              "    </tr>\n",
              "  </thead>\n",
              "  <tbody>\n",
              "    <tr>\n",
              "      <th>0</th>\n",
              "      <td>1</td>\n",
              "      <td>NaN</td>\n",
              "      <td>81766</td>\n",
              "      <td>526309</td>\n",
              "      <td>2016-05-09</td>\n",
              "    </tr>\n",
              "    <tr>\n",
              "      <th>1</th>\n",
              "      <td>1</td>\n",
              "      <td>NaN</td>\n",
              "      <td>31331</td>\n",
              "      <td>1031018</td>\n",
              "      <td>2016-05-09</td>\n",
              "    </tr>\n",
              "    <tr>\n",
              "      <th>2</th>\n",
              "      <td>1</td>\n",
              "      <td>NaN</td>\n",
              "      <td>32118</td>\n",
              "      <td>243569</td>\n",
              "      <td>2016-05-09</td>\n",
              "    </tr>\n",
              "    <tr>\n",
              "      <th>3</th>\n",
              "      <td>1</td>\n",
              "      <td>NaN</td>\n",
              "      <td>9654</td>\n",
              "      <td>75848</td>\n",
              "      <td>2016-05-09</td>\n",
              "    </tr>\n",
              "    <tr>\n",
              "      <th>4</th>\n",
              "      <td>1</td>\n",
              "      <td>NaN</td>\n",
              "      <td>32627</td>\n",
              "      <td>1112408</td>\n",
              "      <td>2016-05-09</td>\n",
              "    </tr>\n",
              "  </tbody>\n",
              "</table>\n",
              "</div>\n",
              "    <div class=\"colab-df-buttons\">\n",
              "\n",
              "  <div class=\"colab-df-container\">\n",
              "    <button class=\"colab-df-convert\" onclick=\"convertToInteractive('df-217597bc-b697-4178-bdbe-c162d9bd3f2c')\"\n",
              "            title=\"Convert this dataframe to an interactive table.\"\n",
              "            style=\"display:none;\">\n",
              "\n",
              "  <svg xmlns=\"http://www.w3.org/2000/svg\" height=\"24px\" viewBox=\"0 -960 960 960\">\n",
              "    <path d=\"M120-120v-720h720v720H120Zm60-500h600v-160H180v160Zm220 220h160v-160H400v160Zm0 220h160v-160H400v160ZM180-400h160v-160H180v160Zm440 0h160v-160H620v160ZM180-180h160v-160H180v160Zm440 0h160v-160H620v160Z\"/>\n",
              "  </svg>\n",
              "    </button>\n",
              "\n",
              "  <style>\n",
              "    .colab-df-container {\n",
              "      display:flex;\n",
              "      gap: 12px;\n",
              "    }\n",
              "\n",
              "    .colab-df-convert {\n",
              "      background-color: #E8F0FE;\n",
              "      border: none;\n",
              "      border-radius: 50%;\n",
              "      cursor: pointer;\n",
              "      display: none;\n",
              "      fill: #1967D2;\n",
              "      height: 32px;\n",
              "      padding: 0 0 0 0;\n",
              "      width: 32px;\n",
              "    }\n",
              "\n",
              "    .colab-df-convert:hover {\n",
              "      background-color: #E2EBFA;\n",
              "      box-shadow: 0px 1px 2px rgba(60, 64, 67, 0.3), 0px 1px 3px 1px rgba(60, 64, 67, 0.15);\n",
              "      fill: #174EA6;\n",
              "    }\n",
              "\n",
              "    .colab-df-buttons div {\n",
              "      margin-bottom: 4px;\n",
              "    }\n",
              "\n",
              "    [theme=dark] .colab-df-convert {\n",
              "      background-color: #3B4455;\n",
              "      fill: #D2E3FC;\n",
              "    }\n",
              "\n",
              "    [theme=dark] .colab-df-convert:hover {\n",
              "      background-color: #434B5C;\n",
              "      box-shadow: 0px 1px 3px 1px rgba(0, 0, 0, 0.15);\n",
              "      filter: drop-shadow(0px 1px 2px rgba(0, 0, 0, 0.3));\n",
              "      fill: #FFFFFF;\n",
              "    }\n",
              "  </style>\n",
              "\n",
              "    <script>\n",
              "      const buttonEl =\n",
              "        document.querySelector('#df-217597bc-b697-4178-bdbe-c162d9bd3f2c button.colab-df-convert');\n",
              "      buttonEl.style.display =\n",
              "        google.colab.kernel.accessAllowed ? 'block' : 'none';\n",
              "\n",
              "      async function convertToInteractive(key) {\n",
              "        const element = document.querySelector('#df-217597bc-b697-4178-bdbe-c162d9bd3f2c');\n",
              "        const dataTable =\n",
              "          await google.colab.kernel.invokeFunction('convertToInteractive',\n",
              "                                                    [key], {});\n",
              "        if (!dataTable) return;\n",
              "\n",
              "        const docLinkHtml = 'Like what you see? Visit the ' +\n",
              "          '<a target=\"_blank\" href=https://colab.research.google.com/notebooks/data_table.ipynb>data table notebook</a>'\n",
              "          + ' to learn more about interactive tables.';\n",
              "        element.innerHTML = '';\n",
              "        dataTable['output_type'] = 'display_data';\n",
              "        await google.colab.output.renderOutput(dataTable, element);\n",
              "        const docLink = document.createElement('div');\n",
              "        docLink.innerHTML = docLinkHtml;\n",
              "        element.appendChild(docLink);\n",
              "      }\n",
              "    </script>\n",
              "  </div>\n",
              "\n",
              "\n",
              "    <div id=\"df-642de3d7-b7f2-4848-beab-6973b9f8f8ce\">\n",
              "      <button class=\"colab-df-quickchart\" onclick=\"quickchart('df-642de3d7-b7f2-4848-beab-6973b9f8f8ce')\"\n",
              "                title=\"Suggest charts\"\n",
              "                style=\"display:none;\">\n",
              "\n",
              "<svg xmlns=\"http://www.w3.org/2000/svg\" height=\"24px\"viewBox=\"0 0 24 24\"\n",
              "     width=\"24px\">\n",
              "    <g>\n",
              "        <path d=\"M19 3H5c-1.1 0-2 .9-2 2v14c0 1.1.9 2 2 2h14c1.1 0 2-.9 2-2V5c0-1.1-.9-2-2-2zM9 17H7v-7h2v7zm4 0h-2V7h2v10zm4 0h-2v-4h2v4z\"/>\n",
              "    </g>\n",
              "</svg>\n",
              "      </button>\n",
              "\n",
              "<style>\n",
              "  .colab-df-quickchart {\n",
              "      --bg-color: #E8F0FE;\n",
              "      --fill-color: #1967D2;\n",
              "      --hover-bg-color: #E2EBFA;\n",
              "      --hover-fill-color: #174EA6;\n",
              "      --disabled-fill-color: #AAA;\n",
              "      --disabled-bg-color: #DDD;\n",
              "  }\n",
              "\n",
              "  [theme=dark] .colab-df-quickchart {\n",
              "      --bg-color: #3B4455;\n",
              "      --fill-color: #D2E3FC;\n",
              "      --hover-bg-color: #434B5C;\n",
              "      --hover-fill-color: #FFFFFF;\n",
              "      --disabled-bg-color: #3B4455;\n",
              "      --disabled-fill-color: #666;\n",
              "  }\n",
              "\n",
              "  .colab-df-quickchart {\n",
              "    background-color: var(--bg-color);\n",
              "    border: none;\n",
              "    border-radius: 50%;\n",
              "    cursor: pointer;\n",
              "    display: none;\n",
              "    fill: var(--fill-color);\n",
              "    height: 32px;\n",
              "    padding: 0;\n",
              "    width: 32px;\n",
              "  }\n",
              "\n",
              "  .colab-df-quickchart:hover {\n",
              "    background-color: var(--hover-bg-color);\n",
              "    box-shadow: 0 1px 2px rgba(60, 64, 67, 0.3), 0 1px 3px 1px rgba(60, 64, 67, 0.15);\n",
              "    fill: var(--button-hover-fill-color);\n",
              "  }\n",
              "\n",
              "  .colab-df-quickchart-complete:disabled,\n",
              "  .colab-df-quickchart-complete:disabled:hover {\n",
              "    background-color: var(--disabled-bg-color);\n",
              "    fill: var(--disabled-fill-color);\n",
              "    box-shadow: none;\n",
              "  }\n",
              "\n",
              "  .colab-df-spinner {\n",
              "    border: 2px solid var(--fill-color);\n",
              "    border-color: transparent;\n",
              "    border-bottom-color: var(--fill-color);\n",
              "    animation:\n",
              "      spin 1s steps(1) infinite;\n",
              "  }\n",
              "\n",
              "  @keyframes spin {\n",
              "    0% {\n",
              "      border-color: transparent;\n",
              "      border-bottom-color: var(--fill-color);\n",
              "      border-left-color: var(--fill-color);\n",
              "    }\n",
              "    20% {\n",
              "      border-color: transparent;\n",
              "      border-left-color: var(--fill-color);\n",
              "      border-top-color: var(--fill-color);\n",
              "    }\n",
              "    30% {\n",
              "      border-color: transparent;\n",
              "      border-left-color: var(--fill-color);\n",
              "      border-top-color: var(--fill-color);\n",
              "      border-right-color: var(--fill-color);\n",
              "    }\n",
              "    40% {\n",
              "      border-color: transparent;\n",
              "      border-right-color: var(--fill-color);\n",
              "      border-top-color: var(--fill-color);\n",
              "    }\n",
              "    60% {\n",
              "      border-color: transparent;\n",
              "      border-right-color: var(--fill-color);\n",
              "    }\n",
              "    80% {\n",
              "      border-color: transparent;\n",
              "      border-right-color: var(--fill-color);\n",
              "      border-bottom-color: var(--fill-color);\n",
              "    }\n",
              "    90% {\n",
              "      border-color: transparent;\n",
              "      border-bottom-color: var(--fill-color);\n",
              "    }\n",
              "  }\n",
              "</style>\n",
              "\n",
              "      <script>\n",
              "        async function quickchart(key) {\n",
              "          const quickchartButtonEl =\n",
              "            document.querySelector('#' + key + ' button');\n",
              "          quickchartButtonEl.disabled = true;  // To prevent multiple clicks.\n",
              "          quickchartButtonEl.classList.add('colab-df-spinner');\n",
              "          try {\n",
              "            const charts = await google.colab.kernel.invokeFunction(\n",
              "                'suggestCharts', [key], {});\n",
              "          } catch (error) {\n",
              "            console.error('Error during call to suggestCharts:', error);\n",
              "          }\n",
              "          quickchartButtonEl.classList.remove('colab-df-spinner');\n",
              "          quickchartButtonEl.classList.add('colab-df-quickchart-complete');\n",
              "        }\n",
              "        (() => {\n",
              "          let quickchartButtonEl =\n",
              "            document.querySelector('#df-642de3d7-b7f2-4848-beab-6973b9f8f8ce button');\n",
              "          quickchartButtonEl.style.display =\n",
              "            google.colab.kernel.accessAllowed ? 'block' : 'none';\n",
              "        })();\n",
              "      </script>\n",
              "    </div>\n",
              "\n",
              "    </div>\n",
              "  </div>\n"
            ],
            "application/vnd.google.colaboratory.intrinsic+json": {
              "type": "dataframe",
              "summary": "{\n  \"name\": \"print(df\",\n  \"rows\": 5,\n  \"fields\": [\n    {\n      \"column\": \"sessionId\",\n      \"properties\": {\n        \"dtype\": \"number\",\n        \"std\": 0,\n        \"min\": 1,\n        \"max\": 1,\n        \"num_unique_values\": 1,\n        \"samples\": [\n          1\n        ],\n        \"semantic_type\": \"\",\n        \"description\": \"\"\n      }\n    },\n    {\n      \"column\": \"userId\",\n      \"properties\": {\n        \"dtype\": \"number\",\n        \"std\": null,\n        \"min\": null,\n        \"max\": null,\n        \"num_unique_values\": 0,\n        \"samples\": [],\n        \"semantic_type\": \"\",\n        \"description\": \"\"\n      }\n    },\n    {\n      \"column\": \"itemId\",\n      \"properties\": {\n        \"dtype\": \"number\",\n        \"std\": 26578,\n        \"min\": 9654,\n        \"max\": 81766,\n        \"num_unique_values\": 5,\n        \"samples\": [],\n        \"semantic_type\": \"\",\n        \"description\": \"\"\n      }\n    },\n    {\n      \"column\": \"timeframe\",\n      \"properties\": {\n        \"dtype\": \"number\",\n        \"std\": 462472,\n        \"min\": 75848,\n        \"max\": 1112408,\n        \"num_unique_values\": 5,\n        \"samples\": [],\n        \"semantic_type\": \"\",\n        \"description\": \"\"\n      }\n    },\n    {\n      \"column\": \"eventdate\",\n      \"properties\": {\n        \"dtype\": \"object\",\n        \"num_unique_values\": 1,\n        \"samples\": [],\n        \"semantic_type\": \"\",\n        \"description\": \"\"\n      }\n    }\n  ]\n}"
            }
          },
          "metadata": {}
        },
        {
          "output_type": "stream",
          "name": "stdout",
          "text": [
            "\n",
            "Columns:\n",
            "['sessionId', 'userId', 'itemId', 'timeframe', 'eventdate']\n",
            "\n",
            "Data types:\n",
            "sessionId      int64\n",
            "userId       float64\n",
            "itemId         int64\n",
            "timeframe      int64\n",
            "eventdate     object\n",
            "dtype: object\n",
            "\n",
            "Missing values per column:\n",
            "sessionId        0\n",
            "userId       55674\n",
            "itemId           0\n",
            "timeframe        0\n",
            "eventdate        0\n",
            "dtype: int64\n"
          ]
        }
      ]
    },
    {
      "cell_type": "markdown",
      "source": [
        "### Dropping the `userId` Column — Rationale\n",
        "\n",
        "The `userId` column in the Diginetica dataset contains **over 55% missing values** and is not essential for our project objective.\n",
        "\n",
        "This project focuses on **Session-Aware Recommendations**, where the unit of context is the **session**, not the long-term user profile.\n",
        "\n",
        "- The dataset records **item view sequences within each session** (`sessionId`), but the `userId` is often absent or inconsistent.\n",
        "- In **session-based recommender systems** like **GRU4Rec**, **SASRec**, or **NextItNet**, models rely on **intra-session behavior** (sequence of items viewed) rather than inter-session history.\n",
        "- Most published baselines for Diginetica (including the CIKM Cup 2016 competition) **drop `userId`** for this reason.\n",
        "\n",
        "Hence, we remove the `userId` column to simplify preprocessing and avoid introducing noise or sparsity that does not contribute to model performance.\n"
      ],
      "metadata": {
        "id": "2b0qfRERwOM0"
      }
    },
    {
      "cell_type": "markdown",
      "source": [
        "### Timestamp Cleaning, Sorting, and Basic Standardization\n",
        "\n",
        "After dropping `userId`, we now prepare the dataset for session-based modeling.\n",
        "\n",
        "**Goals of this step:**\n",
        "1. **Ensure chronological order:**  \n",
        "   Session-based recommenders (like GRU4Rec and SASRec) require item sequences to be ordered by time.\n",
        "2. **Convert timestamps to datetime objects:**  \n",
        "   The `eventdate` column currently stores date strings. We convert these into a proper datetime format for consistent sorting and filtering.\n",
        "3. **Handle data quality issues:**  \n",
        "   - Remove rows with missing or invalid dates.  \n",
        "   - Drop duplicate records (same `sessionId`, `itemId`, `eventdate`) to avoid inflating session lengths artificially.\n",
        "4. **Sort the data:**  \n",
        "   We sort by `sessionId`, then by `eventdate`, and finally by `timeframe` (which represents intra-session time offset).\n",
        "\n",
        "\n"
      ],
      "metadata": {
        "id": "vcPSOVH1yKUG"
      }
    },
    {
      "cell_type": "code",
      "source": [
        "# STEP 1.2 - Clean and standardize the data\n",
        "\n",
        "import numpy as np\n",
        "\n",
        "df_cleaned = df.copy()\n",
        "\n",
        "# 1. Drop userId\n",
        "if 'userId' in df_cleaned.columns:\n",
        "    df_cleaned = df_cleaned.drop(columns=['userId'])\n",
        "    print(\"Dropped 'userId' column (too many nulls).\")"
      ],
      "metadata": {
        "colab": {
          "base_uri": "https://localhost:8080/"
        },
        "id": "9m8XUwDBvIXY",
        "outputId": "dd406ce9-20f3-479f-e968-b9c3fdcb4de6"
      },
      "execution_count": 10,
      "outputs": [
        {
          "output_type": "stream",
          "name": "stdout",
          "text": [
            "Dropped 'userId' column (too many nulls).\n"
          ]
        }
      ]
    },
    {
      "cell_type": "code",
      "source": [
        "# 2. Convert eventdate to datetime\n",
        "df_cleaned['eventdate'] = pd.to_datetime(df_cleaned['eventdate'], errors = 'coerce')"
      ],
      "metadata": {
        "id": "C4JtRDcTyeHg"
      },
      "execution_count": 12,
      "outputs": []
    },
    {
      "cell_type": "code",
      "source": [
        "# 3. Remove rows with invalid or missing sessions\n",
        "before = len(df_cleaned)\n",
        "df_cleaned = df_cleaned.dropna(subset=['sessionId'])\n",
        "print(f\"Removed {before - len(df_cleaned)} rows with invalid/missing dates.\")"
      ],
      "metadata": {
        "colab": {
          "base_uri": "https://localhost:8080/"
        },
        "id": "J0cjhAfKzKN9",
        "outputId": "b40cdcda-2330-4d9d-bfcc-bf34e3f1d82b"
      },
      "execution_count": 16,
      "outputs": [
        {
          "output_type": "stream",
          "name": "stdout",
          "text": [
            "Removed 0 rows with invalid/missing dates.\n"
          ]
        }
      ]
    },
    {
      "cell_type": "code",
      "source": [
        "# 4. Sort chronologically within sessions\n",
        "df_cleaned = df_cleaned.sort_values(['sessionId', 'eventdate', 'timeframe']).reset_index(drop=True)\n",
        "print(\"Sorted data by sessionId + eventdate + timeframe.\")"
      ],
      "metadata": {
        "colab": {
          "base_uri": "https://localhost:8080/"
        },
        "id": "Q1ngaHejzhK4",
        "outputId": "23844ff4-1c50-4899-9d7c-0ef84c47cfdc"
      },
      "execution_count": 18,
      "outputs": [
        {
          "output_type": "stream",
          "name": "stdout",
          "text": [
            "Sorted data by sessionId + eventdate + timeframe.\n"
          ]
        }
      ]
    },
    {
      "cell_type": "code",
      "source": [
        "# 5. Drop duplicates\n",
        "before = len(df_cleaned)\n",
        "df_cleaned = df_cleaned.drop_duplicates(subset=['sessionId', 'itemId', 'eventdate'])\n",
        "print(f\"Removed {before - len(df_cleaned)} duplicate rows.\")"
      ],
      "metadata": {
        "colab": {
          "base_uri": "https://localhost:8080/"
        },
        "id": "m2FYQYFF0B1M",
        "outputId": "3d863624-6560-4597-f12b-a18e07d7d3d4"
      },
      "execution_count": 20,
      "outputs": [
        {
          "output_type": "stream",
          "name": "stdout",
          "text": [
            "Removed 16629 duplicate rows.\n"
          ]
        }
      ]
    },
    {
      "cell_type": "code",
      "source": [
        "# 6. Final data sanity checks\n",
        "print('Cleaned dataset shape', df_cleaned.shape)\n",
        "print(df_cleaned.head())\n",
        "print(\"\\nRemaining missing values:\\n\", df_cleaned.isna().sum())"
      ],
      "metadata": {
        "colab": {
          "base_uri": "https://localhost:8080/"
        },
        "id": "LAwVE1rD0RzO",
        "outputId": "ee1573f5-a622-4f08-9e19-ed7408103f5a"
      },
      "execution_count": 21,
      "outputs": [
        {
          "output_type": "stream",
          "name": "stdout",
          "text": [
            "Cleaned dataset shape (83371, 4)\n",
            "   sessionId  itemId  timeframe  eventdate\n",
            "0          1    9654      75848 2016-05-09\n",
            "1          1   33043     173912 2016-05-09\n",
            "2          1   32118     243569 2016-05-09\n",
            "3          1   12352     329870 2016-05-09\n",
            "4          1   35077     390072 2016-05-09\n",
            "\n",
            "Remaining missing values:\n",
            " sessionId    0\n",
            "itemId       0\n",
            "timeframe    0\n",
            "eventdate    0\n",
            "dtype: int64\n"
          ]
        }
      ]
    },
    {
      "cell_type": "markdown",
      "source": [
        "### Creating Item Mappings (`item2id` and `id2item`)\n",
        "\n",
        "Deep learning models require **integer-encoded inputs** rather than raw identifiers.\n",
        "\n",
        "In our dataset, each `itemId` is a large integer (e.g., 81766, 32627).  \n",
        "To train models like GRU4Rec or SASRec, we map these to contiguous integer indices:\n",
        "\n",
        "- `item2id` → maps the original `itemId` to an internal index used by the model  \n",
        "- `id2item` → inverse mapping to recover the original item IDs from predictions  \n",
        "\n",
        "These mappings are essential for:\n",
        "- Building item embedding layers\n",
        "- Generating recommendations\n",
        "- Translating model outputs back to actual products\n"
      ],
      "metadata": {
        "id": "q_m3MWNa1PTq"
      }
    },
    {
      "cell_type": "code",
      "source": [
        "# STEP 1.3 Create item2id and id2item mappings, encode dataset and save cleaned dataset\n",
        "\n",
        "import pickle\n",
        "\n",
        "# 1. Mappings\n",
        "unique_items = df_cleaned['itemId'].unique()\n",
        "print(f\"Found {len(unique_items): ,} unique items\")\n",
        "\n",
        "item2id = {item: idx for idx, item in enumerate(unique_items)}\n",
        "id2item = {idx: item for item, idx in item2id.items()}\n",
        "\n",
        "# 2. Encode itemId column\n",
        "df_encoded = df_cleaned.copy()\n",
        "df_encoded['item_idx'] = df_encoded['itemId'].map(item2id)\n",
        "\n",
        "print(\"\\nExample of encoded items\")\n",
        "display(df_encoded.head())\n",
        "\n",
        "# 3. Save cleaned dataset (encoded version)\n",
        "cleaned_file_path = os.path.join(CLEANED_PATH, 'cleaned_events.csv')\n",
        "df_encoded.to_csv(cleaned_file_path, index=False)\n",
        "print(f\"\\nSaved cleaned dataset to: {cleaned_file_path}\")\n",
        "\n",
        "# 4. Save mappings for reuse\n",
        "item2id_path = os.path.join(CLEANED_PATH, 'item2id.pkl')\n",
        "id2item_path = os.path.join(CLEANED_PATH, 'id2item.pkl')\n",
        "\n",
        "with open(item2id_path, 'wb') as f:\n",
        "    pickle.dump(item2id, f)\n",
        "with open(id2item_path, 'wb') as f:\n",
        "    pickle.dump(id2item, f)\n",
        "\n",
        "print(f\"Saved item2id to: {item2id_path}\")\n",
        "print(f\"Saved id2item to: {id2item_path}\")\n",
        "\n",
        "# 5. Quick check\n",
        "print(\"\\nCleaned dataset shape:\", df_cleaned.shape)\n",
        "print(\"Unique items\", len(unique_items))\n",
        "print(\"Sample mapping: \")\n",
        "for i, (k, v) in enumerate(list(item2id.items())[:5]):\n",
        "    print(f\"{k} -> {v}\")"
      ],
      "metadata": {
        "colab": {
          "base_uri": "https://localhost:8080/",
          "height": 568
        },
        "id": "cz0EZjqk0gmA",
        "outputId": "41ef446e-0c03-452d-d828-5ef4aa53e469"
      },
      "execution_count": 22,
      "outputs": [
        {
          "output_type": "stream",
          "name": "stdout",
          "text": [
            "Found  31,399 unique items\n",
            "\n",
            "Example of encoded items\n"
          ]
        },
        {
          "output_type": "stream",
          "name": "stderr",
          "text": [
            "<>:22: SyntaxWarning: invalid escape sequence '\\S'\n",
            "<>:22: SyntaxWarning: invalid escape sequence '\\S'\n",
            "/tmp/ipython-input-3416183831.py:22: SyntaxWarning: invalid escape sequence '\\S'\n",
            "  print(f\"\\Saved cleaned dataset to: {cleaned_file_path}\")\n"
          ]
        },
        {
          "output_type": "display_data",
          "data": {
            "text/plain": [
              "   sessionId  itemId  timeframe  eventdate  item_idx\n",
              "0          1    9654      75848 2016-05-09         0\n",
              "1          1   33043     173912 2016-05-09         1\n",
              "2          1   32118     243569 2016-05-09         2\n",
              "3          1   12352     329870 2016-05-09         3\n",
              "4          1   35077     390072 2016-05-09         4"
            ],
            "text/html": [
              "\n",
              "  <div id=\"df-90377b19-2cf9-4fda-8b38-581b204ecf0c\" class=\"colab-df-container\">\n",
              "    <div>\n",
              "<style scoped>\n",
              "    .dataframe tbody tr th:only-of-type {\n",
              "        vertical-align: middle;\n",
              "    }\n",
              "\n",
              "    .dataframe tbody tr th {\n",
              "        vertical-align: top;\n",
              "    }\n",
              "\n",
              "    .dataframe thead th {\n",
              "        text-align: right;\n",
              "    }\n",
              "</style>\n",
              "<table border=\"1\" class=\"dataframe\">\n",
              "  <thead>\n",
              "    <tr style=\"text-align: right;\">\n",
              "      <th></th>\n",
              "      <th>sessionId</th>\n",
              "      <th>itemId</th>\n",
              "      <th>timeframe</th>\n",
              "      <th>eventdate</th>\n",
              "      <th>item_idx</th>\n",
              "    </tr>\n",
              "  </thead>\n",
              "  <tbody>\n",
              "    <tr>\n",
              "      <th>0</th>\n",
              "      <td>1</td>\n",
              "      <td>9654</td>\n",
              "      <td>75848</td>\n",
              "      <td>2016-05-09</td>\n",
              "      <td>0</td>\n",
              "    </tr>\n",
              "    <tr>\n",
              "      <th>1</th>\n",
              "      <td>1</td>\n",
              "      <td>33043</td>\n",
              "      <td>173912</td>\n",
              "      <td>2016-05-09</td>\n",
              "      <td>1</td>\n",
              "    </tr>\n",
              "    <tr>\n",
              "      <th>2</th>\n",
              "      <td>1</td>\n",
              "      <td>32118</td>\n",
              "      <td>243569</td>\n",
              "      <td>2016-05-09</td>\n",
              "      <td>2</td>\n",
              "    </tr>\n",
              "    <tr>\n",
              "      <th>3</th>\n",
              "      <td>1</td>\n",
              "      <td>12352</td>\n",
              "      <td>329870</td>\n",
              "      <td>2016-05-09</td>\n",
              "      <td>3</td>\n",
              "    </tr>\n",
              "    <tr>\n",
              "      <th>4</th>\n",
              "      <td>1</td>\n",
              "      <td>35077</td>\n",
              "      <td>390072</td>\n",
              "      <td>2016-05-09</td>\n",
              "      <td>4</td>\n",
              "    </tr>\n",
              "  </tbody>\n",
              "</table>\n",
              "</div>\n",
              "    <div class=\"colab-df-buttons\">\n",
              "\n",
              "  <div class=\"colab-df-container\">\n",
              "    <button class=\"colab-df-convert\" onclick=\"convertToInteractive('df-90377b19-2cf9-4fda-8b38-581b204ecf0c')\"\n",
              "            title=\"Convert this dataframe to an interactive table.\"\n",
              "            style=\"display:none;\">\n",
              "\n",
              "  <svg xmlns=\"http://www.w3.org/2000/svg\" height=\"24px\" viewBox=\"0 -960 960 960\">\n",
              "    <path d=\"M120-120v-720h720v720H120Zm60-500h600v-160H180v160Zm220 220h160v-160H400v160Zm0 220h160v-160H400v160ZM180-400h160v-160H180v160Zm440 0h160v-160H620v160ZM180-180h160v-160H180v160Zm440 0h160v-160H620v160Z\"/>\n",
              "  </svg>\n",
              "    </button>\n",
              "\n",
              "  <style>\n",
              "    .colab-df-container {\n",
              "      display:flex;\n",
              "      gap: 12px;\n",
              "    }\n",
              "\n",
              "    .colab-df-convert {\n",
              "      background-color: #E8F0FE;\n",
              "      border: none;\n",
              "      border-radius: 50%;\n",
              "      cursor: pointer;\n",
              "      display: none;\n",
              "      fill: #1967D2;\n",
              "      height: 32px;\n",
              "      padding: 0 0 0 0;\n",
              "      width: 32px;\n",
              "    }\n",
              "\n",
              "    .colab-df-convert:hover {\n",
              "      background-color: #E2EBFA;\n",
              "      box-shadow: 0px 1px 2px rgba(60, 64, 67, 0.3), 0px 1px 3px 1px rgba(60, 64, 67, 0.15);\n",
              "      fill: #174EA6;\n",
              "    }\n",
              "\n",
              "    .colab-df-buttons div {\n",
              "      margin-bottom: 4px;\n",
              "    }\n",
              "\n",
              "    [theme=dark] .colab-df-convert {\n",
              "      background-color: #3B4455;\n",
              "      fill: #D2E3FC;\n",
              "    }\n",
              "\n",
              "    [theme=dark] .colab-df-convert:hover {\n",
              "      background-color: #434B5C;\n",
              "      box-shadow: 0px 1px 3px 1px rgba(0, 0, 0, 0.15);\n",
              "      filter: drop-shadow(0px 1px 2px rgba(0, 0, 0, 0.3));\n",
              "      fill: #FFFFFF;\n",
              "    }\n",
              "  </style>\n",
              "\n",
              "    <script>\n",
              "      const buttonEl =\n",
              "        document.querySelector('#df-90377b19-2cf9-4fda-8b38-581b204ecf0c button.colab-df-convert');\n",
              "      buttonEl.style.display =\n",
              "        google.colab.kernel.accessAllowed ? 'block' : 'none';\n",
              "\n",
              "      async function convertToInteractive(key) {\n",
              "        const element = document.querySelector('#df-90377b19-2cf9-4fda-8b38-581b204ecf0c');\n",
              "        const dataTable =\n",
              "          await google.colab.kernel.invokeFunction('convertToInteractive',\n",
              "                                                    [key], {});\n",
              "        if (!dataTable) return;\n",
              "\n",
              "        const docLinkHtml = 'Like what you see? Visit the ' +\n",
              "          '<a target=\"_blank\" href=https://colab.research.google.com/notebooks/data_table.ipynb>data table notebook</a>'\n",
              "          + ' to learn more about interactive tables.';\n",
              "        element.innerHTML = '';\n",
              "        dataTable['output_type'] = 'display_data';\n",
              "        await google.colab.output.renderOutput(dataTable, element);\n",
              "        const docLink = document.createElement('div');\n",
              "        docLink.innerHTML = docLinkHtml;\n",
              "        element.appendChild(docLink);\n",
              "      }\n",
              "    </script>\n",
              "  </div>\n",
              "\n",
              "\n",
              "    <div id=\"df-c46ee37c-a8c2-4b16-9c94-5cf104694726\">\n",
              "      <button class=\"colab-df-quickchart\" onclick=\"quickchart('df-c46ee37c-a8c2-4b16-9c94-5cf104694726')\"\n",
              "                title=\"Suggest charts\"\n",
              "                style=\"display:none;\">\n",
              "\n",
              "<svg xmlns=\"http://www.w3.org/2000/svg\" height=\"24px\"viewBox=\"0 0 24 24\"\n",
              "     width=\"24px\">\n",
              "    <g>\n",
              "        <path d=\"M19 3H5c-1.1 0-2 .9-2 2v14c0 1.1.9 2 2 2h14c1.1 0 2-.9 2-2V5c0-1.1-.9-2-2-2zM9 17H7v-7h2v7zm4 0h-2V7h2v10zm4 0h-2v-4h2v4z\"/>\n",
              "    </g>\n",
              "</svg>\n",
              "      </button>\n",
              "\n",
              "<style>\n",
              "  .colab-df-quickchart {\n",
              "      --bg-color: #E8F0FE;\n",
              "      --fill-color: #1967D2;\n",
              "      --hover-bg-color: #E2EBFA;\n",
              "      --hover-fill-color: #174EA6;\n",
              "      --disabled-fill-color: #AAA;\n",
              "      --disabled-bg-color: #DDD;\n",
              "  }\n",
              "\n",
              "  [theme=dark] .colab-df-quickchart {\n",
              "      --bg-color: #3B4455;\n",
              "      --fill-color: #D2E3FC;\n",
              "      --hover-bg-color: #434B5C;\n",
              "      --hover-fill-color: #FFFFFF;\n",
              "      --disabled-bg-color: #3B4455;\n",
              "      --disabled-fill-color: #666;\n",
              "  }\n",
              "\n",
              "  .colab-df-quickchart {\n",
              "    background-color: var(--bg-color);\n",
              "    border: none;\n",
              "    border-radius: 50%;\n",
              "    cursor: pointer;\n",
              "    display: none;\n",
              "    fill: var(--fill-color);\n",
              "    height: 32px;\n",
              "    padding: 0;\n",
              "    width: 32px;\n",
              "  }\n",
              "\n",
              "  .colab-df-quickchart:hover {\n",
              "    background-color: var(--hover-bg-color);\n",
              "    box-shadow: 0 1px 2px rgba(60, 64, 67, 0.3), 0 1px 3px 1px rgba(60, 64, 67, 0.15);\n",
              "    fill: var(--button-hover-fill-color);\n",
              "  }\n",
              "\n",
              "  .colab-df-quickchart-complete:disabled,\n",
              "  .colab-df-quickchart-complete:disabled:hover {\n",
              "    background-color: var(--disabled-bg-color);\n",
              "    fill: var(--disabled-fill-color);\n",
              "    box-shadow: none;\n",
              "  }\n",
              "\n",
              "  .colab-df-spinner {\n",
              "    border: 2px solid var(--fill-color);\n",
              "    border-color: transparent;\n",
              "    border-bottom-color: var(--fill-color);\n",
              "    animation:\n",
              "      spin 1s steps(1) infinite;\n",
              "  }\n",
              "\n",
              "  @keyframes spin {\n",
              "    0% {\n",
              "      border-color: transparent;\n",
              "      border-bottom-color: var(--fill-color);\n",
              "      border-left-color: var(--fill-color);\n",
              "    }\n",
              "    20% {\n",
              "      border-color: transparent;\n",
              "      border-left-color: var(--fill-color);\n",
              "      border-top-color: var(--fill-color);\n",
              "    }\n",
              "    30% {\n",
              "      border-color: transparent;\n",
              "      border-left-color: var(--fill-color);\n",
              "      border-top-color: var(--fill-color);\n",
              "      border-right-color: var(--fill-color);\n",
              "    }\n",
              "    40% {\n",
              "      border-color: transparent;\n",
              "      border-right-color: var(--fill-color);\n",
              "      border-top-color: var(--fill-color);\n",
              "    }\n",
              "    60% {\n",
              "      border-color: transparent;\n",
              "      border-right-color: var(--fill-color);\n",
              "    }\n",
              "    80% {\n",
              "      border-color: transparent;\n",
              "      border-right-color: var(--fill-color);\n",
              "      border-bottom-color: var(--fill-color);\n",
              "    }\n",
              "    90% {\n",
              "      border-color: transparent;\n",
              "      border-bottom-color: var(--fill-color);\n",
              "    }\n",
              "  }\n",
              "</style>\n",
              "\n",
              "      <script>\n",
              "        async function quickchart(key) {\n",
              "          const quickchartButtonEl =\n",
              "            document.querySelector('#' + key + ' button');\n",
              "          quickchartButtonEl.disabled = true;  // To prevent multiple clicks.\n",
              "          quickchartButtonEl.classList.add('colab-df-spinner');\n",
              "          try {\n",
              "            const charts = await google.colab.kernel.invokeFunction(\n",
              "                'suggestCharts', [key], {});\n",
              "          } catch (error) {\n",
              "            console.error('Error during call to suggestCharts:', error);\n",
              "          }\n",
              "          quickchartButtonEl.classList.remove('colab-df-spinner');\n",
              "          quickchartButtonEl.classList.add('colab-df-quickchart-complete');\n",
              "        }\n",
              "        (() => {\n",
              "          let quickchartButtonEl =\n",
              "            document.querySelector('#df-c46ee37c-a8c2-4b16-9c94-5cf104694726 button');\n",
              "          quickchartButtonEl.style.display =\n",
              "            google.colab.kernel.accessAllowed ? 'block' : 'none';\n",
              "        })();\n",
              "      </script>\n",
              "    </div>\n",
              "\n",
              "    </div>\n",
              "  </div>\n"
            ],
            "application/vnd.google.colaboratory.intrinsic+json": {
              "type": "dataframe",
              "summary": "{\n  \"name\": \"    print(f\\\"{k} -> {v}\\\")\",\n  \"rows\": 5,\n  \"fields\": [\n    {\n      \"column\": \"sessionId\",\n      \"properties\": {\n        \"dtype\": \"number\",\n        \"std\": 0,\n        \"min\": 1,\n        \"max\": 1,\n        \"num_unique_values\": 1,\n        \"samples\": [\n          1\n        ],\n        \"semantic_type\": \"\",\n        \"description\": \"\"\n      }\n    },\n    {\n      \"column\": \"itemId\",\n      \"properties\": {\n        \"dtype\": \"number\",\n        \"std\": 12357,\n        \"min\": 9654,\n        \"max\": 35077,\n        \"num_unique_values\": 5,\n        \"samples\": [\n          33043\n        ],\n        \"semantic_type\": \"\",\n        \"description\": \"\"\n      }\n    },\n    {\n      \"column\": \"timeframe\",\n      \"properties\": {\n        \"dtype\": \"number\",\n        \"std\": 124387,\n        \"min\": 75848,\n        \"max\": 390072,\n        \"num_unique_values\": 5,\n        \"samples\": [\n          173912\n        ],\n        \"semantic_type\": \"\",\n        \"description\": \"\"\n      }\n    },\n    {\n      \"column\": \"eventdate\",\n      \"properties\": {\n        \"dtype\": \"date\",\n        \"min\": \"2016-05-09 00:00:00\",\n        \"max\": \"2016-05-09 00:00:00\",\n        \"num_unique_values\": 1,\n        \"samples\": [\n          \"2016-05-09 00:00:00\"\n        ],\n        \"semantic_type\": \"\",\n        \"description\": \"\"\n      }\n    },\n    {\n      \"column\": \"item_idx\",\n      \"properties\": {\n        \"dtype\": \"number\",\n        \"std\": 1,\n        \"min\": 0,\n        \"max\": 4,\n        \"num_unique_values\": 5,\n        \"samples\": [\n          1\n        ],\n        \"semantic_type\": \"\",\n        \"description\": \"\"\n      }\n    }\n  ]\n}"
            }
          },
          "metadata": {}
        },
        {
          "output_type": "stream",
          "name": "stdout",
          "text": [
            "\\Saved cleaned dataset to: /content/drive/MyDrive/Data Science course/Major Projects/Projects/e-commerce recommender/diginetica_recommender_project/data/cleaned/cleaned_events.csv\n",
            "Saved item2id to: /content/drive/MyDrive/Data Science course/Major Projects/Projects/e-commerce recommender/diginetica_recommender_project/data/cleaned/item2id.pkl\n",
            "Saved id2item to: /content/drive/MyDrive/Data Science course/Major Projects/Projects/e-commerce recommender/diginetica_recommender_project/data/cleaned/id2item.pkl\n",
            "\n",
            "Cleaned dataset shape: (83371, 4)\n",
            "Unique items 31399\n",
            "Sample mapping: \n",
            "9654 -> 0\n",
            "33043 -> 1\n",
            "32118 -> 2\n",
            "12352 -> 3\n",
            "35077 -> 4\n"
          ]
        }
      ]
    },
    {
      "cell_type": "code",
      "source": [
        "# 1.4 EDA"
      ],
      "metadata": {
        "id": "Bln6btI83ORC"
      },
      "execution_count": null,
      "outputs": []
    },
    {
      "cell_type": "markdown",
      "source": [
        "### Session Length Distribution\n",
        "\n",
        "Before modeling, it's important to understand user behavior within sessions.\n",
        "\n",
        "This plot shows the distribution of session lengths — i.e., how many items users typically view in a single session.\n",
        "\n",
        "Why it matters:\n",
        "- Short sessions suggest quick browsing or one-off visits.\n",
        "- Longer sessions indicate deeper engagement.\n",
        "- The distribution helps in deciding sequence lengths and padding strategies for sequential models (GRU4Rec, SASRec).\n"
      ],
      "metadata": {
        "id": "2RVtQ2kz55qt"
      }
    },
    {
      "cell_type": "code",
      "source": [
        "# EDA 1 — Session Length Distribution\n",
        "\n",
        "import matplotlib.pyplot as plt\n",
        "import seaborn as sns\n",
        "\n",
        "# session lengths\n",
        "session_lengths = df_encoded.groupby('sessionId')['item_idx'].count()\n",
        "\n",
        "plt.figure(figsize=(8,4))\n",
        "sns.histplot(session_lengths, bins=50, kde=False)\n",
        "plt.title('Session Length Distribution')\n",
        "plt.xlabel('Number of Items per Session')\n",
        "plt.ylabel('Number of Sessions')\n",
        "plt.grid(alpha=0.3)\n",
        "plt.show()\n",
        "\n",
        "print(\"Number of sessions:\", len(session_lengths))\n",
        "print(\"Average session length:\", round(session_lengths.mean(), 2))\n",
        "print(\"Median session length:\", session_lengths.median())\n",
        "print(\"Max session length:\", session_lengths.max())"
      ],
      "metadata": {
        "colab": {
          "base_uri": "https://localhost:8080/",
          "height": 482
        },
        "id": "0Dcro-fq57-R",
        "outputId": "86d5c52a-8583-4d6a-85ea-7b36a0e25f7d"
      },
      "execution_count": 23,
      "outputs": [
        {
          "output_type": "display_data",
          "data": {
            "text/plain": [
              "<Figure size 800x400 with 1 Axes>"
            ],
            "image/png": "[encoded data removed]"
          },
          "metadata": {}
        },
        {
          "output_type": "stream",
          "name": "stdout",
          "text": [
            "Number of sessions: 26676\n",
            "Average session length: 3.13\n",
            "Median session length: 2.0\n",
            "Max session length: 52\n"
          ]
        }
      ]
    },
    {
      "cell_type": "markdown",
      "source": [
        "### Top-N Popular Items — Item Frequency Distribution\n",
        "\n",
        "In e-commerce data, item popularity tends to follow a **long-tail distribution**:\n",
        "- A few items are viewed or purchased very frequently.\n",
        "- Most items receive little attention.\n",
        "\n",
        "Understanding this helps us:\n",
        "- Set realistic baseline models (e.g., popularity-based recommenders).\n",
        "- Handle data imbalance (many rare items vs. few popular ones).\n",
        "- Plan model training strategies (e.g., sampling or weighting).\n",
        "\n",
        "The plot below shows the frequency of the most viewed items in our dataset.\n"
      ],
      "metadata": {
        "id": "6keV4OsF7_oW"
      }
    },
    {
      "cell_type": "code",
      "source": [
        "# EDA 2 - Item popularity distribution\n",
        "\n",
        "# item frequency\n",
        "item_freq = df_encoded['item_idx'].value_counts()\n",
        "\n",
        "plt.figure(figsize=(8,4))\n",
        "sns.histplot(item_freq, bins=100, kde=False)\n",
        "plt.title('Item Popularity Distribution (Long Tail)')\n",
        "plt.xlabel('Number of Views per Item')\n",
        "plt.ylabel('Number of Items')\n",
        "plt.grid(alpha=0.3)\n",
        "plt.show()\n",
        "\n",
        "print(\" Total unique items:\", len(item_freq))\n",
        "print(\" Items with only 1 view:\", (item_freq == 1).sum())\n",
        "print(\" Items with > 100 views:\", (item_freq > 100).sum())\n",
        "print(\" Most popular item viewed:\", item_freq.max(), \"times\")"
      ],
      "metadata": {
        "colab": {
          "base_uri": "https://localhost:8080/",
          "height": 482
        },
        "id": "pSWKYXza7ayo",
        "outputId": "5e2ae0b5-9069-42eb-f37c-add4856dbf3f"
      },
      "execution_count": 24,
      "outputs": [
        {
          "output_type": "display_data",
          "data": {
            "text/plain": [
              "<Figure size 800x400 with 1 Axes>"
            ],
            "image/png": "[encoded data removed]"
          },
          "metadata": {}
        },
        {
          "output_type": "stream",
          "name": "stdout",
          "text": [
            " Total unique items: 31399\n",
            " Items with only 1 view: 18832\n",
            " Items with > 100 views: 4\n",
            " Most popular item viewed: 154 times\n"
          ]
        }
      ]
    },
    {
      "cell_type": "markdown",
      "source": [
        "### Temporal Interaction Distribution\n",
        "\n",
        "To understand user activity patterns, we visualize the number of interactions over time.\n",
        "\n",
        "This helps answer questions like:\n",
        "- Were there spikes in activity (sales, promotions)?\n",
        "- Is user engagement steady or seasonal?\n",
        "- Do we have enough temporal coverage for chronological train/test splits?\n",
        "\n",
        "Such insights are important for defining realistic validation strategies.\n"
      ],
      "metadata": {
        "id": "oEOjjuYg9Si6"
      }
    },
    {
      "cell_type": "code",
      "source": [
        "# EDA 3 - Temporal interaction distribution\n",
        "\n",
        "# Count interactions by date\n",
        "interactions_by_date = df_encoded.groupby(df_encoded['eventdate'].dt.date).size()\n",
        "\n",
        "plt.figure(figsize=(10,4))\n",
        "interactions_by_date.plot(kind='line', marker='o', linewidth=1)\n",
        "plt.title('User Interactions Over Time')\n",
        "plt.xlabel('Date')\n",
        "plt.ylabel('Number of Interactions')\n",
        "plt.grid(alpha=0.3)\n",
        "plt.tight_layout()\n",
        "plt.show()\n",
        "\n",
        "print(\" Date range:\", interactions_by_date.index.min(), \"to\", interactions_by_date.index.max())\n",
        "print(\" Average interactions per day:\", round(interactions_by_date.mean(), 2))\n",
        "print(\" Lowest daily interactions:\", interactions_by_date.min())\n",
        "print(\" Peak daily interactions:\", interactions_by_date.max())"
      ],
      "metadata": {
        "colab": {
          "base_uri": "https://localhost:8080/",
          "height": 479
        },
        "id": "Z71k2JwI8p66",
        "outputId": "443d86d6-14de-4521-a116-b224bad38146"
      },
      "execution_count": 25,
      "outputs": [
        {
          "output_type": "display_data",
          "data": {
            "text/plain": [
              "<Figure size 1000x400 with 1 Axes>"
            ],
            "image/png": "[encoded data removed]"
          },
          "metadata": {}
        },
        {
          "output_type": "stream",
          "name": "stdout",
          "text": [
            " Date range: 2016-01-01 to 2016-06-01\n",
            " Average interactions per day: 559.54\n",
            " Lowest daily interactions: 1\n",
            " Peak daily interactions: 1182\n"
          ]
        }
      ]
    },
    {
      "cell_type": "markdown",
      "source": [
        "## Summary of Data Acquisition, Cleaning, and EDA\n",
        "\n",
        "We completed the first phase of the project — transforming raw Diginetica data into a clean, analysis-ready format.\n",
        "\n",
        "### Key Achievements\n",
        "1. **Loaded raw event data** (`train-item-views.csv`) and inspected structure.\n",
        "2. **Cleaned and standardized**:\n",
        "   - Dropped sparse `userId` column.\n",
        "   - Converted `eventdate` to datetime.\n",
        "   - Sorted chronologically by `sessionId` and `timeframe`.\n",
        "   - Removed duplicates and invalid timestamps.\n",
        "3. **Created mappings**:\n",
        "   - `item2id` / `id2item` for model embedding layers.\n",
        "   - Saved `cleaned_events.csv` and mappings in `/data/cleaned/`.\n",
        "4. **Conducted EDA**:\n",
        "   - **Session lengths:** Avg 3.13 items per session (short browsing behavior).  \n",
        "   - **Item popularity:** Long-tail distribution — few popular, many rare items.  \n",
        "   - **Temporal activity:** Steady interactions from Jan → Jun 2016.\n",
        "\n",
        "### Insights for Modeling\n",
        "- The dataset is **sparse and short-sessioned**, ideal for **session-based sequence models** (GRU4Rec / SASRec).  \n",
        "- The **long-tail** nature highlights the importance of embedding-based representations over popularity baselines.  \n",
        "- **Chronological split** will ensure time-realistic evaluation.\n",
        "\n",
        "### Outputs Ready for Next Notebook\n",
        "| File | Description |\n",
        "|------|--------------|\n",
        "| `data/cleaned/cleaned_events.csv` | Cleaned, sorted interaction logs |\n",
        "| `data/cleaned/item2id.pkl` | Mapping: original → encoded item IDs |\n",
        "| `data/cleaned/id2item.pkl` | Mapping: encoded → original item IDs |\n",
        "\n",
        "---\n",
        "\n",
        "Next → **Notebook 2: Session Engineering & Feature Construction**,  \n",
        "where we’ll create session sequences, engineer basic session features, and split the data into train/val/test chronologically.\n"
      ],
      "metadata": {
        "id": "dZF0_cPl-MJ7"
      }
    },
    {
      "cell_type": "code",
      "source": [],
      "metadata": {
        "id": "G0b3YUsp9uMs"
      },
      "execution_count": null,
      "outputs": []
    }
  ]
}